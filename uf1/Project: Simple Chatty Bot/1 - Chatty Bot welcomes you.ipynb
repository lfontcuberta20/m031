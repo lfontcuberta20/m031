{
 "cells": [
  {
   "cell_type": "markdown",
   "id": "8b67b5e3",
   "metadata": {},
   "source": [
    "``Project: Simple Chatty Bot (1/5)``"
   ]
  },
  {
   "cell_type": "markdown",
   "id": "c9ce0581",
   "metadata": {},
   "source": [
    "# Chatty Bot welcomes you (1/5)"
   ]
  },
  {
   "cell_type": "markdown",
   "id": "81c3153a",
   "metadata": {},
   "source": [
    "Teach your assistant to introduce itself in the console."
   ]
  },
  {
   "cell_type": "markdown",
   "id": "4f17283d",
   "metadata": {},
   "source": [
    "Lessons you will work on in this project stage:\n",
    "\n",
    "***\n",
    "Introduction to Java\n",
    "***\n",
    "\n",
    "***\n",
    "Basic Literals\n",
    "***\n",
    "\n",
    "***\n",
    "Overview of the basic program\n",
    "***\n",
    "\n",
    "***\n",
    "Printing data\n",
    "***"
   ]
  },
  {
   "cell_type": "markdown",
   "id": "abe6837c",
   "metadata": {},
   "source": [
    "## Description\n",
    "\n",
    "Digital personal assistants help people to drive cars, plan their day, buy something online. In a sense, they are simplified versions of artificial intelligence with whom you can talk.\n",
    "\n",
    "In this project, you will develop step by step a simple bot that will help you study programming."
   ]
  },
  {
   "cell_type": "markdown",
   "id": "fa3a99ee",
   "metadata": {},
   "source": [
    "## Objective\n",
    "\n",
    "For the first stage, you will write a bot that displays a greeting, its name, and the date of its creation. First impressions count!\n",
    "\n",
    "Your program should print the following lines:\n",
    "\n",
    "```\n",
    "Hello! My name is {botName}.\n",
    "I was created in {birthYear}.\n",
    "```\n",
    "\n",
    "Instead of {botName}, print any name you choose and replace {birthYear} with the current year (four digits)."
   ]
  },
  {
   "cell_type": "markdown",
   "id": "e1abee77",
   "metadata": {},
   "source": [
    "## Example\n",
    "\n",
    "Output:\n",
    "\n",
    "``\n",
    "Hello! My name is Aid.\n",
    "I was created in 2020.\n",
    "``\n",
    "\n",
    "You can change the text if you want but print exactly two lines.\n",
    "\n",
    "Next, we will use Aid and 2020 as your bot's name and its birth year, but you can change it if you need to."
   ]
  },
  {
   "cell_type": "raw",
   "id": "29e75a22",
   "metadata": {
    "ExecuteTime": {
     "end_time": "2021-08-21T12:22+0000",
     "start_time": "2021-08-21T12:22:40.223Z"
    },
    "solution2": "hidden",
    "solution2_first": true
   },
   "source": [
    "public class SimpleBot {\n",
    "    public static void main(String[] args) {\n",
    "        // write your code here\n",
    "    }\n",
    "}"
   ]
  },
  {
   "cell_type": "code",
   "execution_count": 9,
   "id": "865d1172",
   "metadata": {
    "ExecuteTime": {
     "end_time": "2021-08-21T12:23+0000",
     "start_time": "2021-08-21T12:23:08.752Z"
    },
    "solution2": "hidden"
   },
   "outputs": [
    {
     "name": "stdout",
     "output_type": "stream",
     "text": [
      "Hello! My name is Aid.\n",
      "I was created in 2021.\n"
     ]
    }
   ],
   "source": [
    "public class SimpleBot {\n",
    "    public static void main(String[] args) {        \n",
    "        System.out.println(\"Hello! My name is Aid.\");\n",
    "        System.out.println(\"I was created in 2021.\");\n",
    "    }\n",
    "}\n",
    "SimpleBot.main(new String[]{\"\"});"
   ]
  },
  {
   "cell_type": "markdown",
   "id": "2b556b8f",
   "metadata": {
    "ExecuteTime": {
     "end_time": "2021-08-21T12:25+0000",
     "start_time": "2021-08-21T12:25:03.757Z"
    }
   },
   "source": [
    "## Exercise"
   ]
  },
  {
   "cell_type": "markdown",
   "id": "a0c81190",
   "metadata": {},
   "source": [
    "Complete the next code to obtain a result equal or similar to that one in the example:"
   ]
  },
  {
   "cell_type": "code",
   "execution_count": 12,
   "id": "5207aa35",
   "metadata": {
    "ExecuteTime": {
     "end_time": "2021-08-21T12:25+0000",
     "start_time": "2021-08-21T12:25:59.401Z"
    },
    "solution2": "hidden",
    "solution2_first": true
   },
   "outputs": [],
   "source": [
    "public class SimpleBot {\n",
    "    public static void main(String[] args) {\n",
    "        // write your code here\n",
    "    }\n",
    "}"
   ]
  },
  {
   "cell_type": "code",
   "execution_count": 14,
   "id": "448388e0",
   "metadata": {
    "ExecuteTime": {
     "end_time": "2021-08-21T12:27+0000",
     "start_time": "2021-08-21T12:27:05.742Z"
    },
    "solution2": "hidden"
   },
   "outputs": [
    {
     "name": "stdout",
     "output_type": "stream",
     "text": [
      "Hello! My name is Aid.\n",
      "I was created in 2021.\n"
     ]
    }
   ],
   "source": [
    "public class SimpleBot {\n",
    "    public static void main(String[] args) {\n",
    "        System.out.println(\"Hello! My name is Aid.\");\n",
    "        System.out.println(\"I was created in 2021.\");\n",
    "    }\n",
    "}\n",
    "SimpleBot.main(new String[0]);"
   ]
  },
  {
   "cell_type": "code",
   "execution_count": null,
   "id": "d64b53e8",
   "metadata": {},
   "outputs": [],
   "source": []
  }
 ],
 "metadata": {
  "kernelspec": {
   "display_name": "Java 11",
   "language": "java",
   "name": "java"
  },
  "language_info": {
   "codemirror_mode": "java",
   "file_extension": ".jshell",
   "mimetype": "text/x-java-source",
   "name": "Java",
   "pygments_lexer": "java",
   "version": "11.0.11+9-Ubuntu-0ubuntu2.20.04"
  },
  "nbTranslate": {
   "displayLangs": [
    "*"
   ],
   "hotkey": "alt-t",
   "langInMainMenu": true,
   "sourceLang": "en",
   "targetLang": "ca",
   "useGoogleTranslate": true
  },
  "toc": {
   "base_numbering": 1,
   "nav_menu": {},
   "number_sections": true,
   "sideBar": true,
   "skip_h1_title": false,
   "title_cell": "Table of Contents",
   "title_sidebar": "Contents",
   "toc_cell": false,
   "toc_position": {},
   "toc_section_display": true,
   "toc_window_display": false
  },
  "varInspector": {
   "cols": {
    "lenName": 16,
    "lenType": 16,
    "lenVar": 40
   },
   "kernels_config": {
    "python": {
     "delete_cmd_postfix": "",
     "delete_cmd_prefix": "del ",
     "library": "var_list.py",
     "varRefreshCmd": "print(var_dic_list())"
    },
    "r": {
     "delete_cmd_postfix": ") ",
     "delete_cmd_prefix": "rm(",
     "library": "var_list.r",
     "varRefreshCmd": "cat(var_dic_list()) "
    }
   },
   "types_to_exclude": [
    "module",
    "function",
    "builtin_function_or_method",
    "instance",
    "_Feature"
   ],
   "window_display": false
  }
 },
 "nbformat": 4,
 "nbformat_minor": 5
}
