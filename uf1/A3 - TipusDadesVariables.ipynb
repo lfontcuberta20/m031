{
 "cells": [
  {
   "cell_type": "markdown",
   "id": "f5782887-1fd9-4c38-bc1f-c9404827b2db",
   "metadata": {},
   "source": [
    "# Variables i tipus de dades"
   ]
  },
  {
   "cell_type": "markdown",
   "id": "b9ffe789-cb01-492e-9bbc-1153e463689e",
   "metadata": {},
   "source": [
    "> Les variables són \"calaixos\" on guardem coses de diferent mena.\n",
    "\n",
    "Cada calaix (variable) té un nom, de manera que serà a través d'aquest nom que podrem identificar de quin calaix (variable) estem parlant."
   ]
  },
  {
   "cell_type": "markdown",
   "id": "f07aa027-71c8-4276-bde2-534538342d13",
   "metadata": {
    "tags": []
   },
   "source": [
    "### Noms vàlids per a donar a les variables en Java\n",
    "\n",
    "Podem donar qualsevol nom a les variables mentre es compleixi:\n",
    "\n",
    "1. All variable names must begin with a letter of the alphabet, an underscore, or ( _ ), or a dollar sign ($). The convention is to always use a letter of the alphabet. The dollar sign and the underscore are discouraged. After the first initial letter, variable names may also contain letters and the digits 0 to 9.\n",
    "\n",
    "2. No sigui cap **paraula clau propi** del llenguatge de programació."
   ]
  },
  {
   "cell_type": "markdown",
   "id": "98b166f3-c417-4cdf-ac79-128b89ea4101",
   "metadata": {},
   "source": [
    "## Tipus de dades\n",
    "\n",
    "Quan creem una variable, caldrà establir:\n",
    "* De quina mida volem que siguin els calaixos\n",
    "* Quina mena d'objectes hi guardarem dintre del calaix\n",
    "\n",
    "Una cosa està relacionada amb l'altra, és a dir, si diem que dins del calaix hi volem guardar papers de mida DinA4, el calaix tindrà una mida més petita que si necessitem un calaix per a guardar papers de mida DinA3 (el doble de gran que DinA4). I definitivament, el calaix haurà de ser molt més gran (serà més aviat un contenidor, enlloc d'un calaix) si el que hi volem guardar dins són cadires."
   ]
  },
  {
   "cell_type": "markdown",
   "id": "3fc1a19d-ab55-4742-af10-9017ebe36359",
   "metadata": {},
   "source": [
    "> **En programació, les coses que es guarden dins d'una variable no són objectes físics (com en calaixos o contenidors físics), sinó que hi guardem DADES (informació)**. "
   ]
  },
  {
   "cell_type": "markdown",
   "id": "a4d6c270-1438-429e-8899-db640b47158d",
   "metadata": {},
   "source": [
    "**En el món de la informàtica HI HA MOLTS TIPUS DE DADES DIFERENTS**."
   ]
  },
  {
   "cell_type": "markdown",
   "id": "98b315e5-a296-4ccd-9008-20ff88430cff",
   "metadata": {},
   "source": [
    "Exemples:\n",
    "\n",
    "* \"Hola\" **és un valor** que pertany a un **tipus de dada** anomenat _cadena de text_.\n",
    "* 10 **és un valor** que pertany a un **tipus de dada** anomenat _número enter_.\n",
    "* 9.5 **és un valor** que pertany a un **tipus de dada** anomenat _número decimal_.\n",
    "* 'c' **és un valor** que pertany a un **tipus de dada** anomenat _caracter_."
   ]
  },
  {
   "cell_type": "markdown",
   "id": "ebc739c4-530e-4fb2-861a-472a002d36b6",
   "metadata": {},
   "source": [
    "### Literals\n",
    "\n",
    "> Els literals **són els valors** en sí mateixos, allò que es guarda dins d'un calaix (dins d'una variable).\n",
    "\n",
    "En els exemples anteriors, els literals són \"Hola\", 10, 9.5 i 'c'."
   ]
  },
  {
   "cell_type": "markdown",
   "id": "33fca866-dd79-402b-af43-7dae6e038c39",
   "metadata": {},
   "source": [
    "## Declaració de variables"
   ]
  },
  {
   "cell_type": "markdown",
   "id": "fbb3683c-0f53-4b3c-84c5-af42e49ce306",
   "metadata": {},
   "source": [
    "El primer que hem de fer és **declarar una variable**.\n",
    "\n",
    "> Declarar una variable significa:\n",
    ">> Establir de quin tipus de dada serà (quin tipus de dada podrà guardar-hi dins).\n",
    "\n",
    ">> Donar-li un nom vàlid (que serà com l'identificarem)."
   ]
  },
  {
   "cell_type": "markdown",
   "id": "3a6fa789-c9e3-4bc8-a0e7-12ece62d397b",
   "metadata": {},
   "source": [
    "Exemple 1:\n",
    "\n",
    "```\n",
    "cadena_de_text missatge\n",
    "```\n",
    "\n",
    "En aquest cas, la variable s'anomena _missatge_ i podrà guardar dades de tipus _cadena de text_, com per exemple el literal \"Hola\" que hem vist abans."
   ]
  },
  {
   "cell_type": "markdown",
   "id": "6a3ea057-14a3-4c5a-8e1e-013724dc60f9",
   "metadata": {},
   "source": [
    "Exemple 2:\n",
    "\n",
    "```\n",
    "numero_enter radi\n",
    "```\n",
    "\n",
    "En aquest exemple, la variable s'anomena _radi_ i podrà guardar literals que siguin números enters, com per exemple 10."
   ]
  },
  {
   "cell_type": "markdown",
   "id": "6016897d-d4d8-458b-870d-317c35c5e2e7",
   "metadata": {},
   "source": [
    "## Tipus de dades amb Java"
   ]
  },
  {
   "cell_type": "markdown",
   "id": "8cdf1c23-b2ef-47ef-85c5-f8177098e97c",
   "metadata": {},
   "source": [
    "A Java, hi ha dos subconjunts de tipus de dades:\n",
    "\n",
    "- Els tipus de dades primitius\n",
    "- Els tipus de dades no primitius\n",
    "\n",
    "De moment, veurem a continuació els tipus de dades primitius, i dels _no primitius_ en veurem (de moment) només un."
   ]
  },
  {
   "cell_type": "markdown",
   "id": "839e998f-30ed-495a-83de-87f855f730a2",
   "metadata": {},
   "source": [
    "### Tipus de dades primitius"
   ]
  },
  {
   "cell_type": "markdown",
   "id": "7838c8e5-c56d-49df-9fdf-e669cbed7a8e",
   "metadata": {},
   "source": [
    "A Java hi ha 8 tipus de dades primitius:\n",
    "\n",
    "byte, short, int, long, float, double, char i boolean."
   ]
  },
  {
   "cell_type": "markdown",
   "id": "347ea8ea-457c-42fc-b415-8a879a93e46e",
   "metadata": {},
   "source": [
    "![primitive data types](images/java-pdatatypes.jpg)"
   ]
  },
  {
   "cell_type": "markdown",
   "id": "f116f7c9-0ca9-48e1-8aa3-f83ccc6ee31b",
   "metadata": {},
   "source": [
    "### Tipus enters\n",
    "Els tipus de dades que poden representar un número enter són:\n",
    "\n",
    "byte, short, int, long\n",
    "\n",
    "**Es diferencien entre sí per \"quan de gran és el calaix\", és a dir, quan de gran és l'espai de memòria que es reserva (on s'hi guardaran els valors, les dades - o literals -)**:\n",
    "\n",
    "* ```byte``` : es reserva 1 byte de memòria (8 bits)\n",
    "* ```short``` : es reserven 2 bytes de memòria (16 bits)\n",
    "* ```int``` : es reserven 4 bytes de memòria (32 bits)\n",
    "* ```long``` : es reserven 8 bytes de memòria (64 bits)"
   ]
  },
  {
   "cell_type": "markdown",
   "id": "528ec36c-0132-46ac-8f49-f208ab32a703",
   "metadata": {},
   "source": [
    "![numeric data types](images/java-numdatatypes.jpg)"
   ]
  },
  {
   "cell_type": "markdown",
   "id": "d5104935-11c1-4afd-9386-79f12983e271",
   "metadata": {},
   "source": [
    "> En Java, un literal enter, per exemple el número 10, és considerat per defecte de tipus ```int```.\n",
    "\n",
    "Si volem que un literal sigui un ```long``` li haurem d'afegir una ```L``` al final, per exemple 10L (també es pot posar en minúscula)."
   ]
  },
  {
   "cell_type": "code",
   "execution_count": 6,
   "id": "4769033f-9de4-40a8-bbe5-09bf07e3ac2f",
   "metadata": {},
   "outputs": [
    {
     "name": "stdout",
     "output_type": "stream",
     "text": [
      "10\n",
      "10\n"
     ]
    }
   ],
   "source": [
    "//Aquest literal és un int\n",
    "println(10);\n",
    "\n",
    "//Aquest literal és un long\n",
    "println(10L);\n",
    "\n",
    "//Els dos s'imprimeixen igual, LA DIFERÈNCIA ESTÀ EN L'ESPAI DE MEMÒRIA QUE OCUPEN"
   ]
  },
  {
   "cell_type": "code",
   "execution_count": null,
   "id": "e4dc25f7",
   "metadata": {
    "ExecuteTime": {
     "end_time": "2021-10-28T15:31+0000",
     "start_time": "2021-10-28T15:31:53.947Z"
    }
   },
   "outputs": [],
   "source": []
  },
  {
   "cell_type": "markdown",
   "id": "dca45563-cb8a-467f-9bb5-2a4176bda5bb",
   "metadata": {},
   "source": [
    "### Tipus de coma flotant (numèrics decimals)\n"
   ]
  },
  {
   "cell_type": "markdown",
   "id": "e8b20c77-87a4-43d9-b8da-5bc83895715c",
   "metadata": {},
   "source": [
    "Els tipus de dades que poden representar un número decimal són:\n",
    "\n",
    "float i double\n",
    "\n",
    "**Es diferencien entre sí per \"quan de gran és el calaix\", és a dir, quan de gran és l'espai de memòria que es reserva (on s'hi guardaran els valors, les dades - o literals -)**:\n",
    "\n",
    "* ```float``` : es reserven 4 bytes de memòria (32 bits)\n",
    "* ```double``` : es reserven 8 bytes de memòria (64 bits)"
   ]
  },
  {
   "cell_type": "markdown",
   "id": "bb2b8ae2-8df5-4f9f-a1da-9e9de3365ad9",
   "metadata": {},
   "source": [
    "> En Java, un literal numèric decimal, per exemple el número 9.5, és considerat per defecte de tipus ```double```.\n",
    "\n",
    "Si volem que un literal sigui un ```float``` li haurem d'afegir una ```F``` al final, per exemple 9.5F (també es pot posar en minúscula)."
   ]
  },
  {
   "cell_type": "code",
   "execution_count": 7,
   "id": "fc94e368-c3f8-4767-b660-4206ca41fec2",
   "metadata": {},
   "outputs": [
    {
     "name": "stdout",
     "output_type": "stream",
     "text": [
      "9.5\n",
      "9.5\n"
     ]
    }
   ],
   "source": [
    "//Aquest literal és un double\n",
    "println(9.5);\n",
    "\n",
    "//Aquest literal és un float\n",
    "println(9.5F);\n",
    "\n",
    "//Els dos s'imprimeixen igual, LA DIFERÈNCIA ESTÀ EN L'ESPAI DE MEMÒRIA QUE OCUPEN"
   ]
  },
  {
   "cell_type": "markdown",
   "id": "55433f97-1f1f-4e73-85f3-0a6f67d12a9a",
   "metadata": {},
   "source": [
    "### Tipus caracter (char)"
   ]
  },
  {
   "cell_type": "markdown",
   "id": "75cbe3b3-f551-4bbb-8fb2-7f4fa1a38ff6",
   "metadata": {},
   "source": [
    "El tipus de dada que representa un únic caracter, a Java, és:\n",
    "\n",
    "char\n",
    "\n",
    "**Els caràcters es representen només amb char, que té una mida de**:\n",
    "\n",
    "* ```char``` : es reserven 4 bytes de memòria (32 bits)"
   ]
  },
  {
   "cell_type": "markdown",
   "id": "3b2bc211-26bd-4e09-8a60-29e2c19d7617",
   "metadata": {},
   "source": [
    "> En Java, un literal de tipus char pot ser qualsevol caràcter individual, i es representa posant-lo **entre cometes simples**. \n",
    "\n",
    "Literals exemples de char: \n",
    "```\n",
    "'c'\n",
    "'%'\n",
    "'9'\n",
    "'.'\n",
    "' '\n",
    "```"
   ]
  },
  {
   "cell_type": "code",
   "execution_count": 9,
   "id": "cfc4ec6d-3cd9-4766-a8a4-94ecfff28771",
   "metadata": {},
   "outputs": [
    {
     "name": "stdout",
     "output_type": "stream",
     "text": [
      "c\n",
      " \n",
      "9\n"
     ]
    }
   ],
   "source": [
    "//Aquest literal és un char\n",
    "println('c');\n",
    "\n",
    "//Aquest literal és un char, també\n",
    "println(' '); //l'espai buit és un char\n",
    "\n",
    "//Aquest literal és un char, també\n",
    "println('9');\n",
    "\n",
    "//Els tres s'imprimeixen igual, però l'espai buit no es veu"
   ]
  },
  {
   "cell_type": "markdown",
   "id": "6ed9dc15-ae4e-4bd9-92f8-bca453ed7e9d",
   "metadata": {},
   "source": [
    "### Tipus booleà\n",
    "\n",
    "> Un tipus booleà és un tipus (per definició) que **només pot pendre 2 valors**.\n",
    "\n",
    "Per exemple:\n",
    "\n",
    "```\n",
    "0/1\n",
    "si/no\n",
    "true/false\n",
    "```"
   ]
  },
  {
   "cell_type": "markdown",
   "id": "a61c7106-7e59-44ab-a6a3-10400960c96b",
   "metadata": {},
   "source": [
    "El tipus de dada que representa un valor booleà, a Java, és:\n",
    "\n",
    "boolean\n",
    "\n",
    "**Els valors booleans es representen només amb el tipus boolean, que té una mida de**:\n",
    "\n",
    "* ```boolean``` : es reserva 1 byte de memòria (8 bits)\n",
    "\n",
    "> Malgrat es reserva 1 byte sencer, només es fa servir el primer bit."
   ]
  },
  {
   "cell_type": "markdown",
   "id": "d99f8842-e406-4651-b90b-06daae39c7d9",
   "metadata": {},
   "source": [
    "> En Java, un literal de tipus boolean només pot pendre els valors **true** o **false** (_escrits en minúscula_). \n",
    "\n",
    "Literals exemples de boolean (no n'hi ha més):\n",
    "```\n",
    "true\n",
    "false\n",
    "```\n",
    "\n",
    "Les paraules ```true``` i ```false``` **són paraules reservades de Java** i no es poden fer servir per posar noms a variables o altres elements del teu programa (com funcions, per exemple)."
   ]
  },
  {
   "cell_type": "code",
   "execution_count": 11,
   "id": "83036e4f-5fb7-43b3-926d-90f3030b4d17",
   "metadata": {},
   "outputs": [
    {
     "name": "stdout",
     "output_type": "stream",
     "text": [
      "true\n",
      "false\n"
     ]
    }
   ],
   "source": [
    "//Aquest literal és boolean\n",
    "println(true);\n",
    "\n",
    "//Aquest literal és boolean\n",
    "println(false);\n",
    "\n",
    "//S'imprimeixen com text, però són boolean"
   ]
  },
  {
   "cell_type": "markdown",
   "id": "570b8c38-f5cd-4680-bba2-d99f5f77c863",
   "metadata": {},
   "source": [
    "## Declaració de variables amb Java"
   ]
  },
  {
   "cell_type": "markdown",
   "id": "33c16ffc-355a-4a17-8226-9c508b97010f",
   "metadata": {},
   "source": [
    "Amb Java, i fent servir els tipus de dades primitius, podem crear variables de la següent manera:\n",
    "\n",
    "- **Primer hem de dir de quin tipus de dada serà** (quina mena de dada hi voldrem guardar dins). Fent-ho, estem reservant en memòria un número de bits concret, suficient per a guardar-hi els diferents literals.\n",
    "\n",
    "- **Segon, establim un nom per a la variable**.\n",
    "\n",
    "> Aquests dos passos s'escriuen en una sola línia de codi, acabada amb ; (punt i coma). Se'n diu **declarar una variable**.\n",
    "\n",
    "Exemples:"
   ]
  },
  {
   "cell_type": "code",
   "execution_count": 4,
   "id": "caced086-647d-4e74-a042-486cd6aa7b5a",
   "metadata": {
    "ExecuteTime": {
     "end_time": "2021-10-28T15:40+0000",
     "start_time": "2021-10-28T15:40:19.290Z"
    }
   },
   "outputs": [],
   "source": [
    "int numero;\n",
    "double diametre;\n",
    "char caracter;\n",
    "float temperatura;\n",
    "byte edat;\n",
    "short distancia;\n",
    "long estrelles;\n",
    "boolean portaUlleres;"
   ]
  },
  {
   "cell_type": "markdown",
   "id": "83d7fef9-782c-498c-a1b6-f67a6e1abb41",
   "metadata": {},
   "source": [
    "Totes aquestes variables estan declarades (s'ha reservat un espai en memòria) **però encara no hi hem guardat cap valor a dins**."
   ]
  },
  {
   "cell_type": "code",
   "execution_count": 5,
   "id": "0fbfdde3",
   "metadata": {
    "ExecuteTime": {
     "end_time": "2021-10-28T15:41+0000",
     "start_time": "2021-10-28T15:41:17.852Z"
    }
   },
   "outputs": [
    {
     "name": "stdout",
     "output_type": "stream",
     "text": [
      "0"
     ]
    }
   ],
   "source": [
    "print(numero);"
   ]
  },
  {
   "cell_type": "markdown",
   "id": "73623689-7767-46d0-b6a1-755c8b84be1a",
   "metadata": {},
   "source": [
    "## Assignació"
   ]
  },
  {
   "cell_type": "markdown",
   "id": "b93494e8-5d05-4117-a148-45f33bd6ba20",
   "metadata": {},
   "source": [
    "> Guardar valors a dins de variables s'anomena **assignació**, i es fa amb un signe ```=``` després del nom de la variable, i a continuació el valor que volem assignar, que pot ser un literal o una altra variable **del mateix tipus de dada**."
   ]
  },
  {
   "cell_type": "markdown",
   "id": "5f445bc9-08b2-43bf-9fb2-465663c33578",
   "metadata": {},
   "source": [
    "Exemples:"
   ]
  },
  {
   "cell_type": "code",
   "execution_count": 1,
   "id": "35d58027-7261-4d89-93ba-93b5fef5fe4c",
   "metadata": {},
   "outputs": [],
   "source": [
    "//Declarem la variable n\n",
    "int n;\n",
    "//Li assignem el literal 10\n",
    "n = 10;"
   ]
  },
  {
   "cell_type": "code",
   "execution_count": 2,
   "id": "d2409b1e-7240-47a2-9ad6-5e3b15dd0f5d",
   "metadata": {},
   "outputs": [],
   "source": [
    "//Declarem la variable c\n",
    "char c;\n",
    "//Li assignem el literal 'c'\n",
    "c = 'c';"
   ]
  },
  {
   "cell_type": "code",
   "execution_count": 3,
   "id": "8361f960-e19a-4bdf-87c1-ad50b4882f04",
   "metadata": {},
   "outputs": [],
   "source": [
    "//Declarem la variable diameter\n",
    "double diameter;\n",
    "//Li assignem el valor 14.55\n",
    "diameter = 14.55"
   ]
  },
  {
   "cell_type": "code",
   "execution_count": 7,
   "id": "7d055fec-4988-4eb7-8a55-8b9af5a21323",
   "metadata": {
    "ExecuteTime": {
     "end_time": "2021-10-28T15:44+0000",
     "start_time": "2021-10-28T15:44:08.377Z"
    }
   },
   "outputs": [],
   "source": [
    "//Declarem la variable found\n",
    "boolean found;\n",
    "//Li assignem el literal true\n",
    "found = true;"
   ]
  },
  {
   "cell_type": "markdown",
   "id": "3938d6db-97b8-4eea-aa28-56e512f4ed11",
   "metadata": {},
   "source": [
    "En java, també es pot declarar una variable i, en el mateix moment de la declaració (en la mateixa línia de codi) assignar-li un valor. Els exemples anteriors també es poden escriure així:"
   ]
  },
  {
   "cell_type": "code",
   "execution_count": 5,
   "id": "44c499bd-562c-40b8-81e6-6211de1cad47",
   "metadata": {},
   "outputs": [],
   "source": [
    "int n = 10;\n",
    "char c = 'c';\n",
    "double diameter = 14.55;\n",
    "boolean found = true;"
   ]
  },
  {
   "cell_type": "markdown",
   "id": "cf5e5cab-be30-4494-b400-5f0df969d7e4",
   "metadata": {},
   "source": [
    "## final"
   ]
  },
  {
   "cell_type": "markdown",
   "id": "74aa73fb-854e-4a4f-9e10-216e87dd39c8",
   "metadata": {},
   "source": [
    "Els valors de les variables (és a dir, allò que hi ha guardat dins del calaix) poden anar canviant al llarg d'un programa.\n",
    "\n",
    "Per exemple:\n",
    "\n",
    "```java\n",
    "int n = 10;\n",
    "//més tard fem:\n",
    "n = 10;\n",
    "```"
   ]
  },
  {
   "cell_type": "markdown",
   "id": "f83aef0e-7c28-40cb-8688-5702b41c441b",
   "metadata": {},
   "source": [
    "> Quan canviem el valor d'una variable, no cal tornar-la a declarar. El \"calaix\" ja està creat, només el reutilitzem."
   ]
  },
  {
   "cell_type": "markdown",
   "id": "76a34647-ea50-4c6e-9445-6feaba269cec",
   "metadata": {},
   "source": [
    "Ara bé, **ens pot interessar que la variable no pugui canviar de valor**, és a dir, que es comporti com **una constant** (que guardi un valor inalterable).\n",
    "\n",
    "Per a què això sigui possible, **cal posar la paraula clau ```final``` davant del tipus de dada, en el moment de declarar la variable**.\n",
    "\n",
    "> Quan declares una variable ```final```, cal assignar-li un valor en el moment de la declaració."
   ]
  },
  {
   "cell_type": "markdown",
   "id": "569588a7-6ea8-47ce-88de-4280d8d3df98",
   "metadata": {},
   "source": [
    "> Per conveni, els noms de les contants en Java es poden en majúscules.\n",
    "\n",
    "Exemples:"
   ]
  },
  {
   "cell_type": "markdown",
   "id": "d94eaa5b-463c-48eb-86d8-0322a0478a69",
   "metadata": {},
   "source": [
    "```java\n",
    "final double PI = 3.14159;\n",
    "final String VERD = \"Verd\";\n",
    "```"
   ]
  },
  {
   "cell_type": "markdown",
   "id": "ad34ce83-7c1b-4b0d-b8e1-d2bb35be64be",
   "metadata": {},
   "source": [
    "## Rangs"
   ]
  },
  {
   "cell_type": "markdown",
   "id": "2017dcac-7cd6-4956-85a0-ec7e7f7550d1",
   "metadata": {},
   "source": [
    "Quina quantitat d'informació es pot guardar en una variable? És a dir, sabem que en una variable es pot guardar u valor, però aquest valor... **quant de gran pot ser**?\n",
    "\n",
    "La resposta és: **depèn de quants bits disposem per a representar els valors**.\n",
    "\n",
    "### Exemple: tipus de dada ```byte```\n",
    "\n",
    "> Una variable de tipus byte reserva 1 byte de memòria, és a dir, 8 bits. Per tant, el **rang de valors** que es pot representar amb 8 bits és **[-128, 127]**."
   ]
  },
  {
   "cell_type": "markdown",
   "id": "452f56ea-5d19-42e1-81f1-ae23d3c5f861",
   "metadata": {},
   "source": [
    "Per a tipus de dades enters (byte, short, int i long) la fórmula és la següent, suposant que _n_ representa el número de bits que s'han reservat a memòria:\n",
    "\n",
    "**[-2<sup>n-1</sup>, 2<sup>n-1</sup>-1]**\n",
    "\n",
    "on:\n",
    "* n = 8 per byte\n",
    "* n = 16 per short\n",
    "* n = 32 per int\n",
    "* n = 64 per long\n"
   ]
  },
  {
   "cell_type": "markdown",
   "id": "00ef1be1-6630-470d-91d2-dd1ceaee1d0f",
   "metadata": {},
   "source": [
    "> Si intentem guardar un número enter de valor que està fora del rang permès d'un tipus de dada, ens retornarà un error.\n",
    "\n",
    "Per exemple:"
   ]
  },
  {
   "cell_type": "code",
   "execution_count": 1,
   "id": "9bffde4d-ef58-4346-a201-f5378ea2dd73",
   "metadata": {},
   "outputs": [
    {
     "ename": "CompilationException",
     "evalue": "",
     "output_type": "error",
     "traceback": [
      "\u001b[1m\u001b[30m|   \u001b[1m\u001b[30mbyte b = \u001b[0m\u001b[1m\u001b[30m\u001b[41m128\u001b[0m\u001b[1m\u001b[30m;\u001b[0m",
      "\u001b[1m\u001b[31mincompatible types: possible lossy conversion from int to byte\u001b[0m",
      ""
     ]
    }
   ],
   "source": [
    "byte b = 128;"
   ]
  },
  {
   "cell_type": "markdown",
   "id": "6274d421-cf01-4586-a63e-39c42ee25152",
   "metadata": {},
   "source": [
    "## Casting"
   ]
  },
  {
   "cell_type": "markdown",
   "id": "4b816413-cb2f-4a7c-a72c-d222072f7169",
   "metadata": {},
   "source": [
    "## Àmbits"
   ]
  },
  {
   "cell_type": "markdown",
   "id": "73d39464-d260-4535-93c8-240864242490",
   "metadata": {},
   "source": [
    "## String"
   ]
  },
  {
   "cell_type": "markdown",
   "id": "de4ebffb-0bcc-4cc6-9db2-2d40a4f2511e",
   "metadata": {},
   "source": [
    "## Operadors"
   ]
  },
  {
   "cell_type": "code",
   "execution_count": null,
   "id": "bf00e415-85dd-4e91-a41e-43cfd53bce05",
   "metadata": {},
   "outputs": [],
   "source": []
  }
 ],
 "metadata": {
  "kernelspec": {
   "display_name": "Java 11",
   "language": "java",
   "name": "java"
  },
  "language_info": {
   "codemirror_mode": "java",
   "file_extension": ".jshell",
   "mimetype": "text/x-java-source",
   "name": "Java",
   "pygments_lexer": "java",
   "version": "11.0.11+9-Ubuntu-0ubuntu2.20.04"
  },
  "nbTranslate": {
   "displayLangs": [
    "*"
   ],
   "hotkey": "alt-t",
   "langInMainMenu": true,
   "sourceLang": "en",
   "targetLang": "ca",
   "useGoogleTranslate": true
  },
  "toc": {
   "base_numbering": 1,
   "nav_menu": {},
   "number_sections": true,
   "sideBar": true,
   "skip_h1_title": false,
   "title_cell": "Table of Contents",
   "title_sidebar": "Contents",
   "toc_cell": false,
   "toc_position": {},
   "toc_section_display": true,
   "toc_window_display": false
  },
  "varInspector": {
   "cols": {
    "lenName": 16,
    "lenType": 16,
    "lenVar": 40
   },
   "kernels_config": {
    "python": {
     "delete_cmd_postfix": "",
     "delete_cmd_prefix": "del ",
     "library": "var_list.py",
     "varRefreshCmd": "print(var_dic_list())"
    },
    "r": {
     "delete_cmd_postfix": ") ",
     "delete_cmd_prefix": "rm(",
     "library": "var_list.r",
     "varRefreshCmd": "cat(var_dic_list()) "
    }
   },
   "types_to_exclude": [
    "module",
    "function",
    "builtin_function_or_method",
    "instance",
    "_Feature"
   ],
   "window_display": false
  }
 },
 "nbformat": 4,
 "nbformat_minor": 5
}
